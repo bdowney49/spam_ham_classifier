{
 "cells": [
  {
   "cell_type": "code",
   "execution_count": 1,
   "id": "48890055",
   "metadata": {},
   "outputs": [],
   "source": [
    "import pandas as pd\n",
    "import numpy as np\n",
    "from sklearn.model_selection import train_test_split #splitting train into train and test sets\n",
    "from sklearn.feature_extraction.text import TfidfVectorizer, CountVectorizer\n",
    "from sklearn.metrics import classification_report, accuracy_score\n",
    "from nltk.tokenize import word_tokenize\n",
    "from nltk.corpus import stopwords\n",
    "from sklearn.linear_model import LogisticRegression, LogisticRegressionCV, SGDClassifier\n",
    "from sklearn.preprocessing import StandardScaler\n",
    "from sklearn.pipeline import make_pipeline\n",
    "import matplotlib.pyplot as plt"
   ]
  },
  {
   "cell_type": "code",
   "execution_count": 2,
   "id": "b9e6b05c",
   "metadata": {},
   "outputs": [],
   "source": [
    "def clean_emails(email):\n",
    "    email = word_tokenize(email)\n",
    "    email = [word.lower() for word in email if word.lower() not in stopwords.words('english')]\n",
    "    email = [word for word in email if word.isalnum()]\n",
    "    email = [word for word in email if not word == 'subject']\n",
    "    return ' '.join(email)"
   ]
  },
  {
   "cell_type": "code",
   "execution_count": 3,
   "id": "de41edcd",
   "metadata": {},
   "outputs": [],
   "source": [
    "df1 = pd.read_csv('data/all_emails.csv')\n",
    "\n",
    "df1['text'] = df1['text'].apply(clean_emails)"
   ]
  },
  {
   "cell_type": "code",
   "execution_count": 4,
   "id": "84db14e1",
   "metadata": {},
   "outputs": [],
   "source": [
    "# split into train and validate\n",
    "X_train_words, X_val_words, y_train, y_val = train_test_split(df1['text'], df1['spam'], test_size=.15)"
   ]
  },
  {
   "cell_type": "code",
   "execution_count": 5,
   "id": "03a2d129",
   "metadata": {},
   "outputs": [],
   "source": [
    "#initialize vectorize object\n",
    "vectorizer = TfidfVectorizer(ngram_range=[1,4], max_features=5000)\n",
    "\n",
    "#fit transform to train data\n",
    "X_train = vectorizer.fit_transform(X_train_words)\n",
    "X_val = vectorizer.transform(X_val_words)"
   ]
  },
  {
   "cell_type": "code",
   "execution_count": 6,
   "id": "0f0a86f2",
   "metadata": {},
   "outputs": [
    {
     "name": "stdout",
     "output_type": "stream",
     "text": [
      "train accuracy 99.97%\n",
      "val accuracy 99.37%\n",
      "              precision    recall  f1-score   support\n",
      "\n",
      "           0       1.00      1.00      1.00       486\n",
      "           1       0.99      0.99      0.99       153\n",
      "\n",
      "    accuracy                           0.99       639\n",
      "   macro avg       0.99      0.99      0.99       639\n",
      "weighted avg       0.99      0.99      0.99       639\n",
      "\n",
      "acc:  99.37%\n"
     ]
    }
   ],
   "source": [
    "mod = LogisticRegressionCV(cv=4, max_iter=400).fit(X_train, y_train)\n",
    "\n",
    "print(\"train accuracy {:.2f}%\".format(mod.score(X_train, y_train) * 100))\n",
    "print(\"val accuracy {:.2f}%\".format(mod.score(X_val, y_val) * 100))\n",
    "\n",
    "y_pred_val = mod.predict(X_val)\n",
    "\n",
    "print(classification_report(y_val, y_pred_val))\n",
    "print(f'acc: {accuracy_score(y_val, y_pred_val) * 100: .2f}%')"
   ]
  },
  {
   "cell_type": "code",
   "execution_count": 7,
   "id": "dfda2e9c",
   "metadata": {},
   "outputs": [],
   "source": [
    "df2 = pd.read_csv(\"data/eval_students_2.csv\")\n",
    "\n",
    "X_test = df2['text'].apply(clean_emails)"
   ]
  },
  {
   "cell_type": "code",
   "execution_count": 8,
   "id": "8bdf384d",
   "metadata": {},
   "outputs": [
    {
     "name": "stdout",
     "output_type": "stream",
     "text": [
      "(1468, 5000)\n"
     ]
    }
   ],
   "source": [
    "X_test = vectorizer.transform(X_test)\n",
    "\n",
    "print(X_test.shape)"
   ]
  },
  {
   "cell_type": "code",
   "execution_count": 9,
   "id": "509e01a5",
   "metadata": {},
   "outputs": [
    {
     "data": {
      "image/png": "[encoded data removed]",
      "text/plain": [
       "<Figure size 432x288 with 1 Axes>"
      ]
     },
     "metadata": {
      "needs_background": "light"
     },
     "output_type": "display_data"
    }
   ],
   "source": [
    "y_pred = mod.predict(X_test)\n",
    "\n",
    "plt.hist(y_pred)\n",
    "\n",
    "df_out = pd.DataFrame(df2['id'])\n",
    "df_out['spam'] = y_pred\n",
    "\n",
    "df_out.to_csv('.\\predictions\\DowneyBlake_9.csv')"
   ]
  }
 ],
 "metadata": {
  "kernelspec": {
   "display_name": "Python 3 (ipykernel)",
   "language": "python",
   "name": "python3"
  },
  "language_info": {
   "codemirror_mode": {
    "name": "ipython",
    "version": 3
   },
   "file_extension": ".py",
   "mimetype": "text/x-python",
   "name": "python",
   "nbconvert_exporter": "python",
   "pygments_lexer": "ipython3",
   "version": "3.9.7"
  }
 },
 "nbformat": 4,
 "nbformat_minor": 5
}
